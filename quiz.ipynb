import gradio as gr
import random

score = {"value": 0}

def generate_question():
    operators = ["+", "-", "x"]
    num1 = random.randint(1, 10)
    num2 = random.randint(1, 10)
    operator = random.choice(operators)

    if operator == "+":
        answer = num1 + num2
    elif operator == "-":
        answer = num1 - num2
    elif operator == "x":
        answer = num1 * num2

    return f"{num1} {operator} {num2}", answer

current_question, correct_answer = generate_question()

def evaluate_answer(student_answer):
    global current_question, correct_answer, score

    try:
        student_answer = int(student_answer)
        if student_answer == correct_answer:
            score["value"] += 1
            result = "Bonne réponse ! 🎉"
        else:
            result = f"Mauvaise réponse. La bonne réponse était {correct_answer}."

        current_question, correct_answer = generate_question()

        return result, current_question, f"Score : {score['value']}"

    except ValueError:
        return "Veuillez entrer un nombre valide.", current_question, f"Score : {score['value']}"

def interface():
    with gr.Blocks() as demo:
        gr.Markdown("### Quiz Mathématique 🧮")

        question_box = gr.Textbox(value=current_question, label="Question", interactive=False)

        student_answer = gr.Textbox(label="Votre réponse")

        submit_button = gr.Button("Soumettre")

        result_box = gr.Textbox(label="Résultat", interactive=False)
        score_box = gr.Textbox(value=f"Score : {score['value']}", label="Score", interactive=False)

        submit_button.click(
            fn=evaluate_answer,
            inputs=[student_answer],
            outputs=[result_box, question_box, score_box],
        )

    return demo

if __name__ == "__main__":
    interface().launch()
